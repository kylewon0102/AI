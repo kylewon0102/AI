{
 "cells": [
  {
   "cell_type": "code",
   "execution_count": 41,
   "id": "7db992f7-5d9c-4553-8285-8824bcc70dce",
   "metadata": {},
   "outputs": [
    {
     "name": "stdout",
     "output_type": "stream",
     "text": [
      "0    [9904312, 3448737, 2890451, 2466052]\n",
      "dtype: object\n",
      "Seoul      9904312\n",
      "Busan      3448737\n",
      "Incheon    2890451\n",
      "Daegu      2466052\n",
      "dtype: int64\n"
     ]
    }
   ],
   "source": [
    "import pandas as pd\n",
    "\n",
    "s = pd.Series([[9904312, 3448737, 2890451, 2466052]]) \n",
    "print(s)\n",
    "s = pd.Series([9904312, 3448737, 2890451, 2466052], index=[\"Seoul\", \"Busan\", \"Incheon\", \"Daegu\"]) \n",
    "print(s)"
   ]
  },
  {
   "cell_type": "code",
   "execution_count": 43,
   "id": "de05ae52-7f80-4b02-822e-a8238f86a750",
   "metadata": {},
   "outputs": [
    {
     "name": "stdout",
     "output_type": "stream",
     "text": [
      "3448737 3448737\n"
     ]
    }
   ],
   "source": [
    "print(s.iloc[1], s[\"Busan\"])"
   ]
  },
  {
   "cell_type": "code",
   "execution_count": 45,
   "id": "5d22eb2b-f5ca-4145-9da2-19190a39621d",
   "metadata": {},
   "outputs": [],
   "source": [
    "import pandas as pd\n",
    "s2 = pd.Series({\"Seoul\": 9631482, \"Busan\": 3393191, \"Incheon\": 2632035, \"Daegu\": 1490158})"
   ]
  },
  {
   "cell_type": "code",
   "execution_count": 47,
   "id": "e4383fc6-ea6a-4a04-a140-fc9df4335235",
   "metadata": {},
   "outputs": [
    {
     "data": {
      "text/plain": [
       "Seoul      9904312\n",
       "Busan      3448737\n",
       "Incheon    2890451\n",
       "Daegu      2466052\n",
       "dtype: int64"
      ]
     },
     "execution_count": 47,
     "metadata": {},
     "output_type": "execute_result"
    }
   ],
   "source": [
    "s"
   ]
  },
  {
   "cell_type": "code",
   "execution_count": 49,
   "id": "f4457a86-b778-4ff7-b20f-e3f54606964e",
   "metadata": {},
   "outputs": [
    {
     "data": {
      "text/plain": [
       "Seoul      9631482\n",
       "Busan      3393191\n",
       "Incheon    2632035\n",
       "Daegu      1490158\n",
       "dtype: int64"
      ]
     },
     "execution_count": 49,
     "metadata": {},
     "output_type": "execute_result"
    }
   ],
   "source": [
    "s2"
   ]
  },
  {
   "cell_type": "code",
   "execution_count": 51,
   "id": "b87e6c02-5171-480d-982f-10dac050d396",
   "metadata": {},
   "outputs": [
    {
     "data": {
      "text/plain": [
       "Seoul      272830\n",
       "Busan       55546\n",
       "Incheon    258416\n",
       "Daegu      975894\n",
       "dtype: int64"
      ]
     },
     "execution_count": 51,
     "metadata": {},
     "output_type": "execute_result"
    }
   ],
   "source": [
    "ds = s - s2\n",
    "ds"
   ]
  },
  {
   "cell_type": "code",
   "execution_count": 53,
   "id": "f2893768-d90c-4ad8-9147-b7a895ccb5b6",
   "metadata": {},
   "outputs": [
    {
     "data": {
      "text/plain": [
       "numpy.ndarray"
      ]
     },
     "execution_count": 53,
     "metadata": {},
     "output_type": "execute_result"
    }
   ],
   "source": [
    "type(s.values)"
   ]
  },
  {
   "cell_type": "code",
   "execution_count": 55,
   "id": "1bcd54a5-5758-4bca-b59d-dac875084552",
   "metadata": {},
   "outputs": [
    {
     "data": {
      "text/plain": [
       "array([9904312, 3448737, 2890451, 2466052])"
      ]
     },
     "execution_count": 55,
     "metadata": {},
     "output_type": "execute_result"
    }
   ],
   "source": [
    "s.values"
   ]
  },
  {
   "cell_type": "code",
   "execution_count": 57,
   "id": "f255df1d-46b7-4ac9-aa80-37a2aabad425",
   "metadata": {},
   "outputs": [
    {
     "data": {
      "text/plain": [
       "numpy.ndarray"
      ]
     },
     "execution_count": 57,
     "metadata": {},
     "output_type": "execute_result"
    }
   ],
   "source": [
    "type(s2.values)"
   ]
  },
  {
   "cell_type": "code",
   "execution_count": 59,
   "id": "a95c921f-046d-4e94-b68f-05f703a80934",
   "metadata": {},
   "outputs": [
    {
     "data": {
      "text/plain": [
       "array([272830,  55546, 258416, 975894])"
      ]
     },
     "execution_count": 59,
     "metadata": {},
     "output_type": "execute_result"
    }
   ],
   "source": [
    "s.values - s2.values"
   ]
  },
  {
   "cell_type": "code",
   "execution_count": 61,
   "id": "e4f9c34d-9ea4-4907-995b-cf747111aeda",
   "metadata": {},
   "outputs": [
    {
     "data": {
      "text/plain": [
       "Seoul      272830\n",
       "Busan       55546\n",
       "Incheon    258416\n",
       "Daegu      975894\n",
       "dtype: int64"
      ]
     },
     "execution_count": 61,
     "metadata": {},
     "output_type": "execute_result"
    }
   ],
   "source": [
    "ds = s - s2\n",
    "ds"
   ]
  },
  {
   "cell_type": "code",
   "execution_count": 63,
   "id": "b43d3b4b-55ec-4b1e-b3f6-ce97673dfc93",
   "metadata": {},
   "outputs": [
    {
     "data": {
      "text/plain": [
       "Seoul      True\n",
       "Busan      True\n",
       "Incheon    True\n",
       "Daegu      True\n",
       "dtype: bool"
      ]
     },
     "execution_count": 63,
     "metadata": {},
     "output_type": "execute_result"
    }
   ],
   "source": [
    "ds.notnull()"
   ]
  },
  {
   "cell_type": "code",
   "execution_count": 65,
   "id": "994ddbd0-7bac-4c59-88fe-cdbb6ea6ef6e",
   "metadata": {},
   "outputs": [
    {
     "data": {
      "text/plain": [
       "Seoul       2.832690\n",
       "Busan       1.636984\n",
       "Incheon     9.818107\n",
       "Daegu      65.489297\n",
       "dtype: float64"
      ]
     },
     "execution_count": 65,
     "metadata": {},
     "output_type": "execute_result"
    }
   ],
   "source": [
    "rs = (s - s2)/s2*100\n",
    "rs"
   ]
  },
  {
   "cell_type": "code",
   "execution_count": 67,
   "id": "9307ef7f-d808-4710-864c-2f7ce53ff9c2",
   "metadata": {},
   "outputs": [
    {
     "data": {
      "text/plain": [
       "Seoul       2.832690\n",
       "Busan       1.636984\n",
       "Incheon     9.818107\n",
       "Daegu      65.489297\n",
       "dtype: float64"
      ]
     },
     "execution_count": 67,
     "metadata": {},
     "output_type": "execute_result"
    }
   ],
   "source": [
    "rs = rs[rs.notnull()]\n",
    "rs"
   ]
  },
  {
   "cell_type": "code",
   "execution_count": 69,
   "id": "feafa8e1-e1fd-400c-b66d-b5e7b799529c",
   "metadata": {},
   "outputs": [
    {
     "data": {
      "text/plain": [
       "Seoul       2.832690\n",
       "Busan       1.630000\n",
       "Incheon     9.818107\n",
       "Daegu      65.489297\n",
       "dtype: float64"
      ]
     },
     "execution_count": 69,
     "metadata": {},
     "output_type": "execute_result"
    }
   ],
   "source": [
    "rs[\"Busan\"] = 1.63\n",
    "rs"
   ]
  },
  {
   "cell_type": "code",
   "execution_count": 71,
   "id": "a83c939b-54f2-4e2d-b740-d1f781c7a0b5",
   "metadata": {},
   "outputs": [
    {
     "data": {
      "text/plain": [
       "Seoul      2.832690\n",
       "Busan      1.630000\n",
       "Incheon    9.818107\n",
       "Daegu      1.410000\n",
       "dtype: float64"
      ]
     },
     "execution_count": 71,
     "metadata": {},
     "output_type": "execute_result"
    }
   ],
   "source": [
    "rs[\"Daegu\"] = 1.41\n",
    "rs"
   ]
  },
  {
   "cell_type": "code",
   "execution_count": 73,
   "id": "fe89de86-f389-495a-aa68-d791ba8b36dd",
   "metadata": {},
   "outputs": [
    {
     "data": {
      "text/plain": [
       "Busan      1.630000\n",
       "Incheon    9.818107\n",
       "Daegu      1.410000\n",
       "dtype: float64"
      ]
     },
     "execution_count": 73,
     "metadata": {},
     "output_type": "execute_result"
    }
   ],
   "source": [
    "del rs[\"Seoul\"]\n",
    "rs"
   ]
  },
  {
   "cell_type": "code",
   "execution_count": 75,
   "id": "20ba70d9-aae9-40f1-acc7-b7195c3f5931",
   "metadata": {},
   "outputs": [
    {
     "name": "stdout",
     "output_type": "stream",
     "text": [
      "    Name  Age  Gender\n",
      "0   John   28    Male\n",
      "1   Kate   23  Female\n",
      "2  David   31    Male\n",
      "3  Emily   27  Female\n"
     ]
    }
   ],
   "source": [
    "data = [['John', 28, 'Male'],\n",
    "        ['Kate', 23, 'Female'],\n",
    "        ['David', 31, 'Male'],\n",
    "        ['Emily', 27, 'Female']]\n",
    "columns = ['Name', 'Age', 'Gender']\n",
    "df = pd.DataFrame(data, columns=columns)\n",
    "\n",
    "print(df)"
   ]
  },
  {
   "cell_type": "code",
   "execution_count": 77,
   "id": "1e5f3357-071d-49f7-a831-33ef479e1e5c",
   "metadata": {},
   "outputs": [
    {
     "name": "stdout",
     "output_type": "stream",
     "text": [
      "[['John' 28 'Male']\n",
      " ['Kate' 23 'Female']\n",
      " ['David' 31 'Male']\n",
      " ['Emily' 27 'Female']]\n",
      "Index(['Name', 'Age', 'Gender'], dtype='object')\n",
      "RangeIndex(start=0, stop=4, step=1)\n"
     ]
    }
   ],
   "source": [
    "print(df.values)\n",
    "print(df.columns)\n",
    "print(df.index)"
   ]
  },
  {
   "cell_type": "code",
   "execution_count": 79,
   "id": "bdc4334c-ac73-4e03-b7ea-e8e2c4b0775c",
   "metadata": {},
   "outputs": [
    {
     "name": "stdout",
     "output_type": "stream",
     "text": [
      "<class 'numpy.ndarray'>\n",
      "<class 'pandas.core.indexes.base.Index'>\n",
      "<class 'pandas.core.indexes.range.RangeIndex'>\n"
     ]
    }
   ],
   "source": [
    "print(type(df.values))\n",
    "print(type(df.columns))\n",
    "print(type(df.index))"
   ]
  },
  {
   "cell_type": "code",
   "execution_count": 81,
   "id": "72e13be1-208d-4dcc-bbbd-366b6bebcf14",
   "metadata": {},
   "outputs": [
    {
     "name": "stdout",
     "output_type": "stream",
     "text": [
      "    Name  Age  Gender\n",
      "0   John   28    Male\n",
      "1   Kate   23  Female\n",
      "2  David   31    Male\n",
      "3  Emily   27  Female\n"
     ]
    }
   ],
   "source": [
    "print(df)"
   ]
  },
  {
   "cell_type": "code",
   "execution_count": 83,
   "id": "9ca2af7d-e904-45fd-83a5-60b190dbb472",
   "metadata": {},
   "outputs": [
    {
     "name": "stdout",
     "output_type": "stream",
     "text": [
      "        Areas     2015     2010     2005     2000  2010-2015 Growth Rate\n",
      "Seoul     NaN  9904312  9631482  9762546  9853972                 0.0283\n",
      "Busan     NaN  3448737  3393191  3512547  3655437                 0.0163\n",
      "Incheon   NaN  2890451  2632035  2517680  2466338                 0.0982\n",
      "Daegu     NaN  2466052  2431774  2456016  2473990                 0.0141\n"
     ]
    },
    {
     "data": {
      "text/html": [
       "<div>\n",
       "<style scoped>\n",
       "    .dataframe tbody tr th:only-of-type {\n",
       "        vertical-align: middle;\n",
       "    }\n",
       "\n",
       "    .dataframe tbody tr th {\n",
       "        vertical-align: top;\n",
       "    }\n",
       "\n",
       "    .dataframe thead th {\n",
       "        text-align: right;\n",
       "    }\n",
       "</style>\n",
       "<table border=\"1\" class=\"dataframe\">\n",
       "  <thead>\n",
       "    <tr style=\"text-align: right;\">\n",
       "      <th></th>\n",
       "      <th>Areas</th>\n",
       "      <th>2015</th>\n",
       "      <th>2010</th>\n",
       "      <th>2005</th>\n",
       "      <th>2000</th>\n",
       "      <th>2010-2015 Growth Rate</th>\n",
       "    </tr>\n",
       "  </thead>\n",
       "  <tbody>\n",
       "    <tr>\n",
       "      <th>Seoul</th>\n",
       "      <td>NaN</td>\n",
       "      <td>9904312</td>\n",
       "      <td>9631482</td>\n",
       "      <td>9762546</td>\n",
       "      <td>9853972</td>\n",
       "      <td>0.0283</td>\n",
       "    </tr>\n",
       "    <tr>\n",
       "      <th>Busan</th>\n",
       "      <td>NaN</td>\n",
       "      <td>3448737</td>\n",
       "      <td>3393191</td>\n",
       "      <td>3512547</td>\n",
       "      <td>3655437</td>\n",
       "      <td>0.0163</td>\n",
       "    </tr>\n",
       "    <tr>\n",
       "      <th>Incheon</th>\n",
       "      <td>NaN</td>\n",
       "      <td>2890451</td>\n",
       "      <td>2632035</td>\n",
       "      <td>2517680</td>\n",
       "      <td>2466338</td>\n",
       "      <td>0.0982</td>\n",
       "    </tr>\n",
       "    <tr>\n",
       "      <th>Daegu</th>\n",
       "      <td>NaN</td>\n",
       "      <td>2466052</td>\n",
       "      <td>2431774</td>\n",
       "      <td>2456016</td>\n",
       "      <td>2473990</td>\n",
       "      <td>0.0141</td>\n",
       "    </tr>\n",
       "  </tbody>\n",
       "</table>\n",
       "</div>"
      ],
      "text/plain": [
       "        Areas     2015     2010     2005     2000  2010-2015 Growth Rate\n",
       "Seoul     NaN  9904312  9631482  9762546  9853972                 0.0283\n",
       "Busan     NaN  3448737  3393191  3512547  3655437                 0.0163\n",
       "Incheon   NaN  2890451  2632035  2517680  2466338                 0.0982\n",
       "Daegu     NaN  2466052  2431774  2456016  2473990                 0.0141"
      ]
     },
     "execution_count": 83,
     "metadata": {},
     "output_type": "execute_result"
    }
   ],
   "source": [
    "data = {\n",
    "    \"2015\": [9904312, 3448737, 2890451, 2466052],\n",
    "    \"2010\": [9631482, 3393191, 2632035, 2431774],\n",
    "    \"2005\": [9762546, 3512547, 2517680, 2456016],\n",
    "    \"2000\": [9853972, 3655437, 2466338, 2473990],\n",
    "    \"지역\": [\"Capital\", \"Rural\", \"Capital\", \"Rural\"],\n",
    "    \"2010-2015 Growth Rate\": [0.0283, 0.0163, 0.0982, 0.0141]\n",
    "}\n",
    "columns = [\"Areas\", \"2015\", \"2010\", \"2005\", \"2000\", \"2010-2015 Growth Rate\"]\n",
    "index = [\"Seoul\", \"Busan\", \"Incheon\", \"Daegu\"]\n",
    "df = pd.DataFrame(data, index=index, columns=columns)\n",
    "print(df)\n",
    "df"
   ]
  },
  {
   "cell_type": "code",
   "execution_count": 89,
   "id": "4cf24d0f-9acf-40fd-bf9a-8cfc60119bd5",
   "metadata": {},
   "outputs": [
    {
     "data": {
      "text/plain": [
       "array([[nan, 9904312, 9631482, 9762546, 9853972, 0.0283],\n",
       "       [nan, 3448737, 3393191, 3512547, 3655437, 0.0163],\n",
       "       [nan, 2890451, 2632035, 2517680, 2466338, 0.0982],\n",
       "       [nan, 2466052, 2431774, 2456016, 2473990, 0.0141]], dtype=object)"
      ]
     },
     "execution_count": 89,
     "metadata": {},
     "output_type": "execute_result"
    }
   ],
   "source": [
    "df.values"
   ]
  },
  {
   "cell_type": "code",
   "execution_count": 91,
   "id": "d754dbad-74a6-487a-930f-cd15abfda993",
   "metadata": {},
   "outputs": [
    {
     "data": {
      "text/plain": [
       "Index(['Areas', '2015', '2010', '2005', '2000', '2010-2015 Growth Rate'], dtype='object')"
      ]
     },
     "execution_count": 91,
     "metadata": {},
     "output_type": "execute_result"
    }
   ],
   "source": [
    "df.columns"
   ]
  },
  {
   "cell_type": "code",
   "execution_count": 93,
   "id": "babf4e99-02a1-49e3-84c1-97d9e84cf9bd",
   "metadata": {},
   "outputs": [
    {
     "data": {
      "text/plain": [
       "Index(['Seoul', 'Busan', 'Incheon', 'Daegu'], dtype='object')"
      ]
     },
     "execution_count": 93,
     "metadata": {},
     "output_type": "execute_result"
    }
   ],
   "source": [
    "df.index"
   ]
  },
  {
   "cell_type": "code",
   "execution_count": 95,
   "id": "b73c15e2-d44b-4b5d-9740-ed16203f4285",
   "metadata": {},
   "outputs": [],
   "source": [
    "df.index.name = \"Place\"\n",
    "df.columns.name = \"Characteristics\""
   ]
  },
  {
   "cell_type": "code",
   "execution_count": 97,
   "id": "82361b40-95ed-4c68-8acc-0f9303183239",
   "metadata": {},
   "outputs": [
    {
     "data": {
      "text/html": [
       "<div>\n",
       "<style scoped>\n",
       "    .dataframe tbody tr th:only-of-type {\n",
       "        vertical-align: middle;\n",
       "    }\n",
       "\n",
       "    .dataframe tbody tr th {\n",
       "        vertical-align: top;\n",
       "    }\n",
       "\n",
       "    .dataframe thead th {\n",
       "        text-align: right;\n",
       "    }\n",
       "</style>\n",
       "<table border=\"1\" class=\"dataframe\">\n",
       "  <thead>\n",
       "    <tr style=\"text-align: right;\">\n",
       "      <th></th>\n",
       "      <th>Literature</th>\n",
       "      <th>Math</th>\n",
       "      <th>English</th>\n",
       "      <th>Society</th>\n",
       "      <th>Science</th>\n",
       "    </tr>\n",
       "  </thead>\n",
       "  <tbody>\n",
       "    <tr>\n",
       "      <th>Abraham</th>\n",
       "      <td>100</td>\n",
       "      <td>70</td>\n",
       "      <td>80</td>\n",
       "      <td>90</td>\n",
       "      <td>100</td>\n",
       "    </tr>\n",
       "    <tr>\n",
       "      <th>Bery</th>\n",
       "      <td>80</td>\n",
       "      <td>60</td>\n",
       "      <td>50</td>\n",
       "      <td>90</td>\n",
       "      <td>80</td>\n",
       "    </tr>\n",
       "    <tr>\n",
       "      <th>Charlie</th>\n",
       "      <td>70</td>\n",
       "      <td>100</td>\n",
       "      <td>90</td>\n",
       "      <td>70</td>\n",
       "      <td>70</td>\n",
       "    </tr>\n",
       "    <tr>\n",
       "      <th>David</th>\n",
       "      <td>90</td>\n",
       "      <td>80</td>\n",
       "      <td>80</td>\n",
       "      <td>60</td>\n",
       "      <td>80</td>\n",
       "    </tr>\n",
       "    <tr>\n",
       "      <th>Eve</th>\n",
       "      <td>90</td>\n",
       "      <td>90</td>\n",
       "      <td>90</td>\n",
       "      <td>80</td>\n",
       "      <td>90</td>\n",
       "    </tr>\n",
       "  </tbody>\n",
       "</table>\n",
       "</div>"
      ],
      "text/plain": [
       "         Literature  Math  English  Society  Science\n",
       "Abraham         100    70       80       90      100\n",
       "Bery             80    60       50       90       80\n",
       "Charlie          70   100       90       70       70\n",
       "David            90    80       80       60       80\n",
       "Eve              90    90       90       80       90"
      ]
     },
     "execution_count": 97,
     "metadata": {},
     "output_type": "execute_result"
    }
   ],
   "source": [
    "import pandas as pd\n",
    "\n",
    "grade = {\n",
    "    \"Literature\": [100, 80, 70, 90, 90],\n",
    "    \"Math\": [70, 60, 100, 80, 90],\n",
    "    \"English\": [80, 50, 90, 80, 90],\n",
    "    \"Society\": [90, 90, 70, 60, 80],\n",
    "    \"Science\": [100, 80, 70, 80, 90],\n",
    "}\n",
    "\n",
    "name = [\"Abraham\", \"Bery\", \"Charlie\", \"David\", \"Eve\"]\n",
    "index = [\"Literature\", \"Math\", \"English\", \"Society\", \"Science\"]\n",
    "\n",
    "df1 = pd.DataFrame(grade, columns=index, index=name)\n",
    "df1"
   ]
  },
  {
   "cell_type": "code",
   "execution_count": 99,
   "id": "5d606ba7-f59f-4f92-a804-6a2c54d4102a",
   "metadata": {},
   "outputs": [
    {
     "name": "stdout",
     "output_type": "stream",
     "text": [
      "     Name  Literature  English  Math\n",
      "1   Frank          95       90    73\n",
      "2    Grok          90       87    95\n",
      "3  Hailey          85       93    87\n",
      "4   Isaac          93       94    89\n",
      "5   Jacob          87       89    93\n",
      "     Name  Literature  English  Math    Avg\n",
      "1   Frank          95       90    73  86.00\n",
      "2    Grok          90       87    95  90.67\n",
      "3  Hailey          85       93    87  88.33\n",
      "4   Isaac          93       94    89  92.00\n",
      "5   Jacob          87       89    93  89.67\n"
     ]
    }
   ],
   "source": [
    "import pandas as pd\n",
    "\n",
    "data = {\n",
    "    \"Name\": [\"Frank\", \"Grok\", \"Hailey\", \"Isaac\", \"Jacob\"],\n",
    "    \"Literature\": [95, 90, 85, 93, 87],\n",
    "    \"English\": [90, 87, 93, 94, 89],\n",
    "    \"Math\": [73, 95, 87, 89, 93],\n",
    "}\n",
    "\n",
    "columns = [\"Name\", \"Literature\", \"English\", \"Math\"]\n",
    "index = [\"1\", \"2\", \"3\", \"4\", \"5\"]\n",
    "\n",
    "df_ex = pd.DataFrame(data, index=index, columns=columns)\n",
    "print(df_ex)\n",
    "df_ex['Avg'] = (df_ex['Literature'] + df_ex['English'] + df_ex['Math'])/3\n",
    "df_ex['Avg'] = df_ex['Avg'].round(2)  # 각 행의 평균을 계산하고 소수점 두 자리로 반올림\n",
    "print(df_ex)"
   ]
  }
 ],
 "metadata": {
  "kernelspec": {
   "display_name": "Python [conda env:base] *",
   "language": "python",
   "name": "conda-base-py"
  },
  "language_info": {
   "codemirror_mode": {
    "name": "ipython",
    "version": 3
   },
   "file_extension": ".py",
   "mimetype": "text/x-python",
   "name": "python",
   "nbconvert_exporter": "python",
   "pygments_lexer": "ipython3",
   "version": "3.12.7"
  }
 },
 "nbformat": 4,
 "nbformat_minor": 5
}
