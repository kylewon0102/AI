{
 "cells": [
  {
   "cell_type": "code",
   "execution_count": null,
   "id": "f23f21d5-c5ca-47d0-8965-4c8312881eb8",
   "metadata": {},
   "outputs": [],
   "source": [
    "import numpy as np\n",
    "\n",
    "data = np.loadtxt('data.txt')\n",
    "data = np.loadtxt('data.csv', delimiter = ',')\n",
    "x, y, z = np.loadtxt('data.txt', unpack=True)"
   ]
  }
 ],
 "metadata": {
  "kernelspec": {
   "display_name": "Python [conda env:base] *",
   "language": "python",
   "name": "conda-base-py"
  },
  "language_info": {
   "codemirror_mode": {
    "name": "ipython",
    "version": 3
   },
   "file_extension": ".py",
   "mimetype": "text/x-python",
   "name": "python",
   "nbconvert_exporter": "python",
   "pygments_lexer": "ipython3",
   "version": "3.12.7"
  }
 },
 "nbformat": 4,
 "nbformat_minor": 5
}
