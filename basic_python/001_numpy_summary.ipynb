{
 "cells": [
  {
   "cell_type": "markdown",
   "id": "089c3ff0-c13a-4149-82ff-a69ef61ab9f4",
   "metadata": {},
   "source": [
    "What is TensorFlow?\n",
    "- \n",
    "\n",
    "A flow of Tensors, where tensor defines as:\n",
    "-  n dimensional abstraction of matrics\n",
    "-  Or simply similar to Numpy Array"
   ]
  },
  {
   "cell_type": "code",
   "execution_count": 2,
   "id": "f266db2f-5caa-4c22-b000-27ca048703ec",
   "metadata": {},
   "outputs": [
    {
     "name": "stdout",
     "output_type": "stream",
     "text": [
      "<class 'list'>\n",
      "<class 'numpy.ndarray'>\n"
     ]
    }
   ],
   "source": [
    "import numpy as np\n",
    "\n",
    "my_list = [0, 1, 2, 3, 4, 5, 6, 7, 8, 9]\n",
    "print(type(my_list))\n",
    "ar = np.array(my_list)\n",
    "print(type(ar))"
   ]
  },
  {
   "cell_type": "code",
   "execution_count": 4,
   "id": "aad192ff-97dc-4b42-be65-a0b6313e0300",
   "metadata": {},
   "outputs": [
    {
     "name": "stdout",
     "output_type": "stream",
     "text": [
      "[1, 2, 3, 4, 5, 6]\n",
      "[5 7 9]\n",
      "[1, 2, 3, 1, 2, 3]\n",
      "[2 4 6]\n",
      "[False  True False]\n",
      "False\n"
     ]
    }
   ],
   "source": [
    "\"\"\"\n",
    "List Vs np.array\n",
    "\n",
    "List - handles data\n",
    "Array - handles calculations\n",
    "\"\"\"\n",
    "\n",
    "al = [1, 2, 3] #list\n",
    "bl = [4, 5, 6] #list\n",
    "aa = np.array(al) #array\n",
    "ba = np.array(bl) #array\n",
    "\n",
    "print(al + bl) #list + list will give the append\n",
    "print(aa + ba) #array + array will give the vector addition\n",
    "\n",
    "print(al*2) #list * 2 will duplicate and append\n",
    "print(aa*2) #array * 2 will give vector multiples\n",
    "\n",
    "print(aa == 2) #array will return individual comparason\n",
    "print(al == 2) #list will just compare the whole list"
   ]
  },
  {
   "cell_type": "code",
   "execution_count": 10,
   "id": "c7a8330e-8ad2-4faf-b790-7796cb2f53e3",
   "metadata": {},
   "outputs": [
    {
     "name": "stdout",
     "output_type": "stream",
     "text": [
      "[[0 1 2]\n",
      " [3 4 5]]\n",
      "2\n",
      "3\n",
      "(2, 3)\n",
      "2\n"
     ]
    },
    {
     "data": {
      "text/plain": [
       "0"
      ]
     },
     "execution_count": 10,
     "metadata": {},
     "output_type": "execute_result"
    }
   ],
   "source": [
    "c = np.array([[0, 1, 2], [3, 4, 5]]) #2 x 3 array\n",
    "\n",
    "print(c) # 2 rows, 3 columns\n",
    "print(len(c)) #row len\n",
    "print(len(c[0])) #column len\n",
    "print(c.shape) #shape\n",
    "print(c.ndim) #dimension\n",
    "\n",
    "c[0, 0]"
   ]
  },
  {
   "cell_type": "code",
   "execution_count": 12,
   "id": "15e33532-8d31-4b18-ae47-4b6a903346cb",
   "metadata": {},
   "outputs": [
    {
     "data": {
      "text/plain": [
       "array([1, 5])"
      ]
     },
     "execution_count": 12,
     "metadata": {},
     "output_type": "execute_result"
    }
   ],
   "source": [
    "#slicing\n",
    "a = np.array([[0, 1, 2, 3],[4, 5, 6, 7]])\n",
    "\n",
    "a[0, :]\n",
    "a[:, 0:2]\n",
    "a[:, 1]"
   ]
  },
  {
   "cell_type": "code",
   "execution_count": 14,
   "id": "086f2413-5fc1-4da7-8d28-64cb8b9a5a69",
   "metadata": {},
   "outputs": [
    {
     "name": "stdout",
     "output_type": "stream",
     "text": [
      "[0 2 4 6 8]\n",
      "[0 2 4 6 8]\n"
     ]
    }
   ],
   "source": [
    "#array mix with index\n",
    "\n",
    "a = np.array([0, 1, 2,3,4,5,6,7,8,9])\n",
    "idx = np.array([True, False, True, False, True, False, True, False, True, False])\n",
    "print(a[idx])\n",
    "print(a[a%2==0])"
   ]
  },
  {
   "cell_type": "code",
   "execution_count": 18,
   "id": "bed6bc8f-3d7a-492c-8eda-eb8ee72f4136",
   "metadata": {},
   "outputs": [
    {
     "name": "stdout",
     "output_type": "stream",
     "text": [
      "[11 33 55 77 99]\n"
     ]
    }
   ],
   "source": [
    "a = np.array([11, 22, 33, 44, 55, 66, 77, 88, 99])\n",
    "idx = np.array([0, 2, 4, 6, 8])\n",
    "print(a[idx])"
   ]
  },
  {
   "cell_type": "code",
   "execution_count": 22,
   "id": "ffffc3ab-5548-4f60-9b3e-58c2f3e9219b",
   "metadata": {},
   "outputs": [
    {
     "name": "stdout",
     "output_type": "stream",
     "text": [
      "int64\n",
      "float64\n",
      "float64\n"
     ]
    }
   ],
   "source": [
    "#dtype\n",
    "\n",
    "\n",
    "x = np.array([1,2,3])\n",
    "print(x.dtype)\n",
    "x = np.array([1.0,2.0,3.0])\n",
    "print(x.dtype)\n",
    "x = np.array([1, 2, 3.0])\n",
    "print(x.dtype)"
   ]
  },
  {
   "cell_type": "code",
   "execution_count": 24,
   "id": "969a3db9-2ac6-4144-b1d4-31c1e6f96baf",
   "metadata": {},
   "outputs": [
    {
     "name": "stdout",
     "output_type": "stream",
     "text": [
      "3.0\n",
      "12\n"
     ]
    }
   ],
   "source": [
    "\"\"\"\n",
    "b boolean\n",
    "i integer\n",
    "u u float\n",
    "f float\n",
    "c 복소 부동소수점\n",
    "o object\n",
    "s byte\n",
    "u unicode\n",
    "\"\"\"\n",
    "x = np.array([1, 2, 3], dtype = 'f')\n",
    "x.dtype\n",
    "print(x[0] + x[1])\n",
    "\n",
    "x = np.array([1, 2, 3], dtype =  'U')\n",
    "x.dtype\n",
    "print(x[0] + x[1])"
   ]
  },
  {
   "cell_type": "code",
   "execution_count": 30,
   "id": "85acfc12-c0ec-48f5-be15-33805490957b",
   "metadata": {},
   "outputs": [
    {
     "name": "stdout",
     "output_type": "stream",
     "text": [
      "[ inf   2. -inf  nan]\n"
     ]
    }
   ],
   "source": [
    "# inf : infinity, NaN (Not a Number)\n",
    "import numpy as np\n",
    "np.seterr(divide='ignore', invalid='ignore')\n",
    "\n",
    "\n",
    "a = np.array([1.0, 2.0, -3.0, 0.0])\n",
    "b = np.array([0.0, 1.0, 0.0, 0.0])\n",
    "c = a/b\n",
    "\n",
    "print(c)"
   ]
  },
  {
   "cell_type": "code",
   "execution_count": 32,
   "id": "b0e249a3-d105-4acd-baee-59040f2487b4",
   "metadata": {},
   "outputs": [
    {
     "name": "stdout",
     "output_type": "stream",
     "text": [
      "[[0.]\n",
      " [0.]\n",
      " [0.]\n",
      " [0.]\n",
      " [0.]]\n"
     ]
    }
   ],
   "source": [
    "# 배열 생성\n",
    "a = np.zeros((5, 1)) #a = [0., 0., 0., 0., 0.]\n",
    "print(a)"
   ]
  }
 ],
 "metadata": {
  "kernelspec": {
   "display_name": "Python [conda env:base] *",
   "language": "python",
   "name": "conda-base-py"
  },
  "language_info": {
   "codemirror_mode": {
    "name": "ipython",
    "version": 3
   },
   "file_extension": ".py",
   "mimetype": "text/x-python",
   "name": "python",
   "nbconvert_exporter": "python",
   "pygments_lexer": "ipython3",
   "version": "3.12.7"
  }
 },
 "nbformat": 4,
 "nbformat_minor": 5
}
