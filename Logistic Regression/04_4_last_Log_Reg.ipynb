{
 "cells": [
  {
   "cell_type": "code",
   "execution_count": 3,
   "id": "bfcf78c3-f22f-414b-8e75-6d7b8799c699",
   "metadata": {},
   "outputs": [
    {
     "name": "stdout",
     "output_type": "stream",
     "text": [
      "[2 3 4]\n",
      "[1 2 3 4 5]\n",
      "2b [99  3  4]\n",
      "[ 1 99  3  4  5]\n",
      "[1 2 3 4 5]\n",
      "c [99  3  4]\n",
      "a [1 2 3 4 5]\n"
     ]
    }
   ],
   "source": [
    "import numpy as np\n",
    "a = np.array([1, 2, 3, 4, 5])\n",
    "\n",
    "print(a[1:4])\n",
    "print(a)\n",
    "\n",
    "b=a[1:4]\n",
    "b[0] = 99\n",
    "\n",
    "print(\"2b\", b)\n",
    "print(a)\n",
    "\n",
    "b[0] = 2\n",
    "print(a)\n",
    "\n",
    "c = a[1:4].copy()\n",
    "c[0] = 99\n",
    "print(\"c\", c)\n",
    "print(\"a\", a)\n",
    "\n"
   ]
  },
  {
   "cell_type": "code",
   "execution_count": 11,
   "id": "00253c9a-fe72-4153-bc58-759899dacaaf",
   "metadata": {},
   "outputs": [
    {
     "name": "stdout",
     "output_type": "stream",
     "text": [
      "WARNING:tensorflow:From /opt/anaconda3/lib/python3.12/site-packages/tensorflow/python/compat/v2_compat.py:98: disable_resource_variables (from tensorflow.python.ops.resource_variables_toggle) is deprecated and will be removed in a future version.\n",
      "Instructions for updating:\n",
      "non-resource variables are not supported in the long term\n"
     ]
    }
   ],
   "source": [
    "import tensorflow.compat.v1 as tf\n",
    "tf.disable_v2_behavior()\n",
    "import numpy as np"
   ]
  },
  {
   "cell_type": "code",
   "execution_count": 39,
   "id": "bc053705-6892-47c0-8558-4a2d4a3d62f4",
   "metadata": {},
   "outputs": [
    {
     "name": "stdout",
     "output_type": "stream",
     "text": [
      "x_data 5개:\n",
      " [[-0.294118    0.487437    0.180328   -0.292929    0.          0.00149028\n",
      "  -0.53117    -0.0333333 ]\n",
      " [-0.882353   -0.145729    0.0819672  -0.414141    0.         -0.207153\n",
      "  -0.766866   -0.666667  ]\n",
      " [-0.0588235   0.839196    0.0491803   0.          0.         -0.305514\n",
      "  -0.492741   -0.633333  ]]\n",
      "y_data 5개:\n",
      " [[0.]\n",
      " [1.]\n",
      " [0.]]\n",
      "step=0, loss=0.9558215737342834\n",
      "step=200, loss=0.7791823744773865\n",
      "step=400, loss=0.7336844205856323\n",
      "step=600, loss=0.7089707851409912\n",
      "step=800, loss=0.6891480088233948\n",
      "step=1000, loss=0.6717402935028076\n",
      "step=1200, loss=0.6561968922615051\n",
      "step=1400, loss=0.6422688364982605\n",
      "step=1600, loss=0.629768431186676\n",
      "step=1800, loss=0.6185320615768433\n",
      "step=2000, loss=0.6084148287773132\n",
      "step=2200, loss=0.5992878079414368\n",
      "step=2400, loss=0.5910375118255615\n",
      "step=2600, loss=0.5835639834403992\n",
      "step=2800, loss=0.5767791867256165\n",
      "step=3000, loss=0.5706057548522949\n",
      "step=3200, loss=0.5649760961532593\n",
      "step=3400, loss=0.5598307251930237\n",
      "step=3600, loss=0.5551175475120544\n",
      "step=3800, loss=0.550790548324585\n",
      "step=4000, loss=0.5468095541000366\n",
      "step=4200, loss=0.5431391000747681\n",
      "step=4400, loss=0.5397477746009827\n",
      "step=4600, loss=0.5366079807281494\n",
      "step=4800, loss=0.5336952805519104\n",
      "step=5000, loss=0.5309880375862122\n",
      "step=5200, loss=0.5284671187400818\n",
      "step=5400, loss=0.526115357875824\n",
      "step=5600, loss=0.523917555809021\n",
      "step=5800, loss=0.5218601226806641\n",
      "step=6000, loss=0.5199310183525085\n",
      "step=6200, loss=0.5181193947792053\n",
      "step=6400, loss=0.5164152979850769\n",
      "step=6600, loss=0.51481032371521\n",
      "step=6800, loss=0.5132962465286255\n",
      "step=7000, loss=0.5118661522865295\n",
      "step=7200, loss=0.5105136036872864\n",
      "step=7400, loss=0.5092328190803528\n",
      "step=7600, loss=0.5080183148384094\n",
      "step=7800, loss=0.5068655014038086\n",
      "step=8000, loss=0.5057699680328369\n",
      "step=8200, loss=0.5047277212142944\n",
      "step=8400, loss=0.5037349462509155\n",
      "step=8600, loss=0.502788782119751\n",
      "step=8800, loss=0.5018857717514038\n",
      "step=9000, loss=0.5010232925415039\n",
      "step=9200, loss=0.5001987218856812\n",
      "step=9400, loss=0.4994097948074341\n",
      "step=9600, loss=0.49865421652793884\n",
      "step=9800, loss=0.49793002009391785\n",
      "step=10000, loss=0.4972354471683502\n",
      "\n",
      "Accuracy:  0.7628459\n"
     ]
    }
   ],
   "source": [
    "xy = np.loadtxt(\"data-03-diabetes.csv\", delimiter=\",\", dtype=np.float32)\n",
    "\n",
    "x_data = xy[:, 0:-1]\n",
    "y_data = xy[:, [-1]]\n",
    "\n",
    "print(\"x_data 5개:\\n\", x_data[:3])\n",
    "print(\"y_data 5개:\\n\", y_data[:3])\n",
    "\n",
    "X = tf.placeholder(tf.float32, shape=[None, 8]) #x 두개 짜리 데이터 그릇\n",
    "Y = tf.placeholder(tf.float32, shape=[None, 1]) #y 한개 짜리 데이터 그릇\n",
    "\n",
    "w = tf.Variable(tf.random_normal([8, 1], name = 'weight'))\n",
    "b = tf.Variable(tf.random_normal([1], name = 'bias'))\n",
    "\n",
    "#y 시그모이드 함수 방정식 사용\n",
    "hypothesis = tf.sigmoid(tf.matmul(X, w)+ b)\n",
    "\n",
    "#오차 함수\n",
    "cost = -tf.reduce_mean(Y*tf.log(hypothesis) + (1 - Y) * tf.log(1-hypothesis))\n",
    "train = tf.train.GradientDescentOptimizer(learning_rate = 0.01).minimize(cost)\n",
    "\n",
    "#정확도\n",
    "predicted = tf.cast(hypothesis>0.5, dtype=tf.float32)\n",
    "accuracy = tf.reduce_mean(tf.cast(tf.equal(predicted, Y), dtype=tf.float32))\n",
    "\n",
    "with tf.Session() as sess:\n",
    "    sess.run(tf.global_variables_initializer())\n",
    "\n",
    "    for i in range(10001):        \n",
    "        cost_val, _ = sess.run([cost, train], feed_dict = {X: x_data, Y: y_data})\n",
    "        if i % 200 == 0:\n",
    "            print(f'step={i}, loss={cost_val}')\n",
    "\n",
    "    w_l, b_l = sess.run([w,b])\n",
    "    \n",
    "    _, _, a = sess.run([hypothesis, predicted, accuracy], feed_dict={X:x_data, Y:y_data})\n",
    "    \n",
    "    print(\"\\nAccuracy: \", a)"
   ]
  },
  {
   "cell_type": "code",
   "execution_count": 81,
   "id": "7e753188-8794-4104-b4b2-33ed7bb9b546",
   "metadata": {},
   "outputs": [
    {
     "name": "stdout",
     "output_type": "stream",
     "text": [
      "입력 1: 예측 = 1, 확률 = 0.8095\n",
      "입력 2: 예측 = 1, 확률 = 0.9181\n",
      "입력 3: 예측 = 1, 확률 = 0.7024\n",
      "입력 4: 예측 = 1, 확률 = 0.6586\n",
      "입력 5: 예측 = 0, 확률 = 0.4595\n",
      "입력 6: 예측 = 0, 확률 = 0.0921\n"
     ]
    }
   ],
   "source": [
    "new_data = np.array([\n",
    "    [0.882353, -0.105528, 0.0819672, -0.535354, -0.777778, -0.162444, -0.923997, 0],\n",
    "    [-0.764706,-0.286432,0.147541,-0.454545,0,-0.165425,-0.566183,-0.966667],\n",
    "    [0.882353, -0.0251256, 0.0819672, -0.69697, -0.669031, -0.308495, -0.650726, -0.966667],\n",
    "    [0.176471, 0.256281, 0.147541, -0.474747, -0.728132, -0.0730253, -0.891546, -0.333333],\n",
    "    [-0.647059,0.708543,0.0491803,-0.252525,-0.468085,0.028316,-0.762596,-0.7],\n",
    "    [0.0588235, 0.718593, 0.803279, -0.515152, -0.432624, 0.353204, -0.450897, 0.1]]\n",
    "    , dtype=np.float32)\n",
    "\n",
    "X = new_data.copy()\n",
    "\n",
    "\n",
    "def sigmoid(z):\n",
    "    return 1 / (1+ np.exp(-z))\n",
    "\n",
    "\n",
    "z = np.matmul(X, w_l) + b_l\n",
    "predicted_prob = sigmoid(z)\n",
    "predicted_label = (predicted_prob > 0.5).astype(np.int32)\n",
    "\n",
    "for i in range(len(X)):\n",
    "    print(f'입력 {i+1}: 예측 = {predicted_label[i][0]}, 확률 = {predicted_prob[i][0]:.4f}')"
   ]
  },
  {
   "cell_type": "code",
   "execution_count": null,
   "id": "c25d0592-ce6d-48fd-94f0-2a940d4fe73c",
   "metadata": {},
   "outputs": [],
   "source": []
  }
 ],
 "metadata": {
  "kernelspec": {
   "display_name": "Python [conda env:base] *",
   "language": "python",
   "name": "conda-base-py"
  },
  "language_info": {
   "codemirror_mode": {
    "name": "ipython",
    "version": 3
   },
   "file_extension": ".py",
   "mimetype": "text/x-python",
   "name": "python",
   "nbconvert_exporter": "python",
   "pygments_lexer": "ipython3",
   "version": "3.12.7"
  }
 },
 "nbformat": 4,
 "nbformat_minor": 5
}
