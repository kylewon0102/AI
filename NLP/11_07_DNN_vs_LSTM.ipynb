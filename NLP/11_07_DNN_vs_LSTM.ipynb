{
 "cells": [
  {
   "cell_type": "code",
   "execution_count": 3,
   "id": "11182012-b63d-47fa-b5e0-3cd2a4a960e3",
   "metadata": {},
   "outputs": [
    {
     "name": "stderr",
     "output_type": "stream",
     "text": [
      "2025-04-22 21:46:24.086635: I tensorflow/core/platform/cpu_feature_guard.cc:210] This TensorFlow binary is optimized to use available CPU instructions in performance-critical operations.\n",
      "To enable the following instructions: AVX2 FMA, in other operations, rebuild TensorFlow with the appropriate compiler flags.\n"
     ]
    },
    {
     "name": "stdout",
     "output_type": "stream",
     "text": [
      "Epoch 1/5\n"
     ]
    },
    {
     "name": "stderr",
     "output_type": "stream",
     "text": [
      "/opt/anaconda3/lib/python3.12/site-packages/keras/src/layers/core/embedding.py:90: UserWarning: Argument `input_length` is deprecated. Just remove it.\n",
      "  warnings.warn(\n"
     ]
    },
    {
     "name": "stdout",
     "output_type": "stream",
     "text": [
      "\u001b[1m118/118\u001b[0m \u001b[32m━━━━━━━━━━━━━━━━━━━━\u001b[0m\u001b[37m\u001b[0m \u001b[1m65s\u001b[0m 517ms/step - accuracy: 0.0558 - loss: 5.0012 - val_accuracy: 0.0769 - val_loss: 2.9382\n",
      "Epoch 2/5\n",
      "\u001b[1m118/118\u001b[0m \u001b[32m━━━━━━━━━━━━━━━━━━━━\u001b[0m\u001b[37m\u001b[0m \u001b[1m61s\u001b[0m 520ms/step - accuracy: 0.0931 - loss: 2.8928 - val_accuracy: 0.1119 - val_loss: 2.8744\n",
      "Epoch 3/5\n",
      "\u001b[1m118/118\u001b[0m \u001b[32m━━━━━━━━━━━━━━━━━━━━\u001b[0m\u001b[37m\u001b[0m \u001b[1m56s\u001b[0m 472ms/step - accuracy: 0.1035 - loss: 2.8697 - val_accuracy: 0.0902 - val_loss: 2.8867\n",
      "Epoch 4/5\n",
      "\u001b[1m118/118\u001b[0m \u001b[32m━━━━━━━━━━━━━━━━━━━━\u001b[0m\u001b[37m\u001b[0m \u001b[1m51s\u001b[0m 433ms/step - accuracy: 0.1238 - loss: 2.7939 - val_accuracy: 0.1528 - val_loss: 2.6235\n",
      "Epoch 5/5\n",
      "\u001b[1m118/118\u001b[0m \u001b[32m━━━━━━━━━━━━━━━━━━━━\u001b[0m\u001b[37m\u001b[0m \u001b[1m52s\u001b[0m 438ms/step - accuracy: 0.1759 - loss: 2.6457 - val_accuracy: 0.1111 - val_loss: 2.7873\n",
      "Epoch 1/5\n",
      "\u001b[1m118/118\u001b[0m \u001b[32m━━━━━━━━━━━━━━━━━━━━\u001b[0m\u001b[37m\u001b[0m \u001b[1m271s\u001b[0m 2s/step - accuracy: 0.1267 - loss: 2.8930 - val_accuracy: 0.2870 - val_loss: 2.2026\n",
      "Epoch 2/5\n",
      "\u001b[1m118/118\u001b[0m \u001b[32m━━━━━━━━━━━━━━━━━━━━\u001b[0m\u001b[37m\u001b[0m \u001b[1m261s\u001b[0m 2s/step - accuracy: 0.3807 - loss: 2.0174 - val_accuracy: 0.4191 - val_loss: 1.8563\n",
      "Epoch 3/5\n",
      "\u001b[1m118/118\u001b[0m \u001b[32m━━━━━━━━━━━━━━━━━━━━\u001b[0m\u001b[37m\u001b[0m \u001b[1m314s\u001b[0m 3s/step - accuracy: 0.5483 - loss: 1.4858 - val_accuracy: 0.4589 - val_loss: 1.7737\n",
      "Epoch 4/5\n",
      "\u001b[1m118/118\u001b[0m \u001b[32m━━━━━━━━━━━━━━━━━━━━\u001b[0m\u001b[37m\u001b[0m \u001b[1m367s\u001b[0m 3s/step - accuracy: 0.6453 - loss: 1.2029 - val_accuracy: 0.5918 - val_loss: 1.3165\n",
      "Epoch 5/5\n",
      "\u001b[1m118/118\u001b[0m \u001b[32m━━━━━━━━━━━━━━━━━━━━\u001b[0m\u001b[37m\u001b[0m \u001b[1m334s\u001b[0m 3s/step - accuracy: 0.7768 - loss: 0.7418 - val_accuracy: 0.6183 - val_loss: 1.2045\n",
      "\u001b[1m118/118\u001b[0m \u001b[32m━━━━━━━━━━━━━━━━━━━━\u001b[0m\u001b[37m\u001b[0m \u001b[1m4s\u001b[0m 33ms/step - accuracy: 0.1098 - loss: 2.7940\n",
      "DNN Model Acc: 0.1111\n",
      "\u001b[1m118/118\u001b[0m \u001b[32m━━━━━━━━━━━━━━━━━━━━\u001b[0m\u001b[37m\u001b[0m \u001b[1m34s\u001b[0m 289ms/step - accuracy: 0.6123 - loss: 1.2155\n",
      "LSTM Model Acc: 0.6183\n"
     ]
    }
   ],
   "source": [
    "import tensorflow as tf\n",
    "from tensorflow.keras.models import Sequential\n",
    "from tensorflow.keras.preprocessing.text import Tokenizer\n",
    "from tensorflow.keras.preprocessing.sequence import pad_sequences\n",
    "from tensorflow.keras.layers import Dense, Embedding, Flatten, LSTM\n",
    "from sklearn.datasets import fetch_20newsgroups\n",
    "from sklearn.model_selection import train_test_split\n",
    "from sklearn.preprocessing import LabelBinarizer\n",
    "\n",
    "#load dataset\n",
    "newsgroups_data = fetch_20newsgroups(subset='all')\n",
    "texts = newsgroups_data.data\n",
    "labels = newsgroups_data.target\n",
    "\n",
    "#data preprocessing\n",
    "tokenizer = Tokenizer(num_words = 20000)\n",
    "tokenizer.fit_on_texts(texts)\n",
    "sequences = tokenizer.texts_to_sequences(texts)\n",
    "word_index = tokenizer.word_index\n",
    "\n",
    "#hyperparameters\n",
    "max_len = 1000\n",
    "data = pad_sequences(sequences, maxlen=max_len)\n",
    "labels = LabelBinarizer().fit_transform(labels)\n",
    "\n",
    "#divide data to test and train\n",
    "x_train, x_test, y_train, y_test = train_test_split(data, labels, test_size=0.2, random_state=0)\n",
    "\n",
    "#dnn\n",
    "model_dnn = Sequential()\n",
    "model_dnn.add(Embedding(20000, 128, input_length=max_len))\n",
    "model_dnn.add(Flatten())\n",
    "model_dnn.add(Dense(256, activation='relu'))\n",
    "model_dnn.add(Dense(20, activation='softmax'))\n",
    "model_dnn.compile(loss='categorical_crossentropy', optimizer='adam', metrics=['accuracy'])\n",
    "\n",
    "#model fit\n",
    "model_dnn.fit(x_train, y_train, epochs=5, batch_size=128, validation_data=(x_test, y_test))\n",
    "\n",
    "#lstm\n",
    "model_lstm = Sequential()\n",
    "model_lstm.add(Embedding(20000, 128, input_length=max_len))\n",
    "model_lstm.add(LSTM(128))\n",
    "model_lstm.add(Dense(20, activation='softmax'))\n",
    "model_lstm.compile(loss='categorical_crossentropy', optimizer='adam', metrics=['accuracy'])\n",
    "\n",
    "model_lstm.fit(x_train, y_train, epochs=5, batch_size=128, validation_data =(x_test, y_test))\n",
    "\n",
    "dnn_loss, dnn_accuracy = model_dnn.evaluate(x_test, y_test)\n",
    "print(f'DNN Model Acc: {dnn_accuracy:.4f}')\n",
    "\n",
    "lstm_loss, lstm_accuracy = model_lstm.evaluate(x_test, y_test)\n",
    "print(f'LSTM Model Acc: {lstm_accuracy:.4f}')\n"
   ]
  }
 ],
 "metadata": {
  "kernelspec": {
   "display_name": "Python [conda env:base] *",
   "language": "python",
   "name": "conda-base-py"
  },
  "language_info": {
   "codemirror_mode": {
    "name": "ipython",
    "version": 3
   },
   "file_extension": ".py",
   "mimetype": "text/x-python",
   "name": "python",
   "nbconvert_exporter": "python",
   "pygments_lexer": "ipython3",
   "version": "3.12.7"
  }
 },
 "nbformat": 4,
 "nbformat_minor": 5
}
