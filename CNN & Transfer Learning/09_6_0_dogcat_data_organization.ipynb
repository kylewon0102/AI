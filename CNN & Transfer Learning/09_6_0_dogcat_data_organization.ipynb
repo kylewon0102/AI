{
 "cells": [
  {
   "cell_type": "code",
   "execution_count": 3,
   "id": "4f7c9483-d4ca-4941-b0eb-5eafa8bf0161",
   "metadata": {},
   "outputs": [],
   "source": [
    "import os\n",
    "import shutil\n",
    "\n",
    "source_folder = './datas/dogcat/train'\n",
    "cat_folder = os.path.join(source_folder, 'Cat')\n",
    "dog_folder = os.path.join(source_folder, 'Dog')\n",
    "\n",
    "os.makedirs(cat_folder, exist_ok=True)\n",
    "os.makedirs(dog_folder, exist_ok=True)\n",
    "\n",
    "for filename in os.listdir(source_folder):\n",
    "    if filename.startswith('cat') and filename.endswith('.jpg'):\n",
    "        shutil.move(os.path.join(source_folder, filename), os.path.join(cat_folder, filename))\n",
    "    elif filename.startswith('dog') and filename.endswith('.jpg'):\n",
    "        shutil.move(os.path.join(source_folder, filename), os.path.join(dog_folder, filename))"
   ]
  }
 ],
 "metadata": {
  "kernelspec": {
   "display_name": "Python [conda env:base] *",
   "language": "python",
   "name": "conda-base-py"
  },
  "language_info": {
   "codemirror_mode": {
    "name": "ipython",
    "version": 3
   },
   "file_extension": ".py",
   "mimetype": "text/x-python",
   "name": "python",
   "nbconvert_exporter": "python",
   "pygments_lexer": "ipython3",
   "version": "3.12.7"
  }
 },
 "nbformat": 4,
 "nbformat_minor": 5
}
