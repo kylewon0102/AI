{
 "cells": [
  {
   "cell_type": "code",
   "execution_count": 7,
   "id": "abd9310c-e011-4755-bdf0-bc6eed22df36",
   "metadata": {},
   "outputs": [
    {
     "name": "stdout",
     "output_type": "stream",
     "text": [
      "Epoch: 0, RMSE = 49.1842098235055, 기울기 a1 = [7.52702889], 기울기 a2 = [7.81601429], y절편 b = [80.59799409]\n",
      "Epoch: 100, RMSE = 1.836812232736287, 기울기 a1 = [1.13055939], 기울기 a2 = [2.13164504], y절편 b = [78.51188663]\n",
      "Epoch: 200, RMSE = 1.8369720668660448, 기울기 a1 = [1.18786995], 기울기 a2 = [2.14874937], y절편 b = [78.10570256]\n",
      "Epoch: 300, RMSE = 1.8370000730758984, 기울기 a1 = [1.21221867], 기울기 a2 = [2.15710359], y절편 b = [77.93517322]\n",
      "Epoch: 400, RMSE = 1.8370049955474899, 기울기 a1 = [1.22256363], 기울기 a2 = [2.16066636], y절편 b = [77.8635534]\n",
      "Epoch: 500, RMSE = 1.837005863664199, 기울기 a1 = [1.22693008], 기울기 a2 = [2.16217239], y절편 b = [77.83346904]\n",
      "Epoch: 600, RMSE = 1.8370060168566695, 기울기 a1 = [1.22876806], 기울기 a2 = [2.16280672], y절편 b = [77.82083106]\n",
      "Epoch: 700, RMSE = 1.8370060438927482, 기울기 a1 = [1.22954084], 기울기 a2 = [2.16307349], y절편 b = [77.81552189]\n",
      "Epoch: 800, RMSE = 1.837006048664272, 기울기 a1 = [1.22986561], 기울기 a2 = [2.16318562], y절편 b = [77.81329149]\n",
      "Epoch: 900, RMSE = 1.8370060495064107, 기울기 a1 = [1.23000206], 기울기 a2 = [2.16323273], y절편 b = [77.8123545]\n",
      "Epoch: 1000, RMSE = 1.8370060496550524, 기울기 a1 = [1.23005939], 기울기 a2 = [2.16325253], y절편 b = [77.81196086]\n",
      "Epoch: 1100, RMSE = 1.8370060496812655, 기울기 a1 = [1.23008347], 기울기 a2 = [2.16326084], y절편 b = [77.81179549]\n",
      "Epoch: 1200, RMSE = 1.8370060496859053, 기울기 a1 = [1.23009359], 기울기 a2 = [2.16326434], y절편 b = [77.81172602]\n",
      "Epoch: 1300, RMSE = 1.837006049686721, 기울기 a1 = [1.23009784], 기울기 a2 = [2.1632658], y절편 b = [77.81169683]\n",
      "Epoch: 1400, RMSE = 1.8370060496868441, 기울기 a1 = [1.23009963], 기울기 a2 = [2.16326642], y절편 b = [77.81168457]\n",
      "Epoch: 1500, RMSE = 1.837006049686877, 기울기 a1 = [1.23010038], 기울기 a2 = [2.16326668], y절편 b = [77.81167942]\n",
      "Epoch: 1600, RMSE = 1.8370060496868628, 기울기 a1 = [1.23010069], 기울기 a2 = [2.16326679], y절편 b = [77.81167726]\n",
      "Epoch: 1700, RMSE = 1.8370060496868792, 기울기 a1 = [1.23010083], 기울기 a2 = [2.16326683], y절편 b = [77.81167635]\n",
      "Epoch: 1800, RMSE = 1.8370060496868805, 기울기 a1 = [1.23010088], 기울기 a2 = [2.16326685], y절편 b = [77.81167597]\n",
      "Epoch: 1900, RMSE = 1.8370060496868894, 기울기 a1 = [1.2301009], 기울기 a2 = [2.16326686], y절편 b = [77.8116758]\n",
      "Epoch: 2000, RMSE = 1.837006049686858, 기울기 a1 = [1.23010091], 기울기 a2 = [2.16326686], y절편 b = [77.81167574]\n",
      "Epoch: 2100, RMSE = 1.8370060496868674, 기울기 a1 = [1.23010092], 기울기 a2 = [2.16326687], y절편 b = [77.81167571]\n",
      "Epoch: 2200, RMSE = 1.837006049686882, 기울기 a1 = [1.23010092], 기울기 a2 = [2.16326687], y절편 b = [77.8116757]\n",
      "Epoch: 2300, RMSE = 1.8370060496869083, 기울기 a1 = [1.23010092], 기울기 a2 = [2.16326687], y절편 b = [77.81167569]\n",
      "Epoch: 2400, RMSE = 1.8370060496868932, 기울기 a1 = [1.23010092], 기울기 a2 = [2.16326687], y절편 b = [77.81167569]\n",
      "Epoch: 2500, RMSE = 1.837006049686867, 기울기 a1 = [1.23010092], 기울기 a2 = [2.16326687], y절편 b = [77.81167569]\n"
     ]
    },
    {
     "data": {
      "text/plain": [
       "tensorflow.python.client.session.Session"
      ]
     },
     "execution_count": 7,
     "metadata": {},
     "output_type": "execute_result"
    }
   ],
   "source": [
    "import tensorflow.compat.v1 as tf\n",
    "tf.disable_v2_behavior()\n",
    "\n",
    "data = [[2, 0, 81], [4, 4, 93], [6, 2, 91], [8, 3, 97]]\n",
    "x1 = [x_row1[0] for x_row1 in data]\n",
    "x2 = [x_row2[1] for x_row2 in data]\n",
    "y_data = [y_row[2] for y_row in data]\n",
    "\n",
    "a1 = tf.Variable(tf.random.uniform([1], 0, 10, dtype=tf.float64, seed=0))\n",
    "a2 = tf.Variable(tf.random.uniform([1], 0, 10, dtype=tf.float64, seed=0))\n",
    "b = tf.Variable(tf.random.uniform([1], 0, 100, dtype=tf.float64, seed=0))\n",
    "\n",
    "y = a1*x1 + a2*x2 + b\n",
    "\n",
    "rmse = tf.sqrt(tf.reduce_mean(tf.square(y - y_data)))\n",
    "learning_rate = 0.1\n",
    "gradient_descent = tf.train.GradientDescentOptimizer(learning_rate).minimize(rmse)\n",
    "\n",
    "with tf.Session() as sess:\n",
    "    sess.run(tf.global_variables_initializer())\n",
    "    for step in range(2501):\n",
    "        sess.run(gradient_descent)\n",
    "        if step%100 == 0:\n",
    "            print(f\"Epoch: {step}, RMSE = {sess.run(rmse)}, 기울기 a1 = {sess.run(a1)}, 기울기 a2 = {sess.run(a2)}, y절편 b = {sess.run(b)}\")\n",
    "\n",
    "tf.Session"
   ]
  },
  {
   "cell_type": "code",
   "execution_count": 9,
   "id": "690131bc-48be-41ee-aac5-33ac14eac74e",
   "metadata": {},
   "outputs": [
    {
     "name": "stdout",
     "output_type": "stream",
     "text": [
      "Multiple Linear Regression Acc : 88.82962\n",
      "Multiple Linear Regression Loss : 1.6703777\n",
      "Linear Regression Acc : 90.49999\n",
      "Linear Regression Loss : 2.4000015\n"
     ]
    }
   ],
   "source": [
    "import numpy as np\n",
    "data = [[2, 0, 81], [4, 4, 93], [6, 2, 91], [8, 3, 97]]\n",
    "x1 = np.array([x_row1[0] for x_row1 in data], dtype='f')\n",
    "x2 = np.array([x_row2[1] for x_row2 in data], dtype='f')\n",
    "y = np.array([y_row[2] for y_row in data], dtype='f')\n",
    "\n",
    "m_a1 = 1.2301\n",
    "m_a2 = 2.1633\n",
    "m_b = 77.8117\n",
    "m_y2 = m_a1*x1 + m_a2*x2 + m_b\n",
    "print('Multiple Linear Regression Acc :', m_y2.mean())\n",
    "m_diff_y = abs(y - m_y2)\n",
    "print('Multiple Linear Regression Loss :', m_diff_y.mean())\n",
    "\n",
    "s_a1 = 2.3\n",
    "s_b = 79\n",
    "s_y1 = s_a1*x1+s_b\n",
    "print('Linear Regression Acc :', s_y1.mean())\n",
    "s_diff_y = abs(y - s_y1)\n",
    "print('Linear Regression Loss :', s_diff_y.mean())"
   ]
  }
 ],
 "metadata": {
  "kernelspec": {
   "display_name": "Python [conda env:base] *",
   "language": "python",
   "name": "conda-base-py"
  },
  "language_info": {
   "codemirror_mode": {
    "name": "ipython",
    "version": 3
   },
   "file_extension": ".py",
   "mimetype": "text/x-python",
   "name": "python",
   "nbconvert_exporter": "python",
   "pygments_lexer": "ipython3",
   "version": "3.12.7"
  }
 },
 "nbformat": 4,
 "nbformat_minor": 5
}
