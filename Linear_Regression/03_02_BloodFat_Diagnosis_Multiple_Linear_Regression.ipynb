{
 "cells": [
  {
   "cell_type": "markdown",
   "id": "24c1f2c4-96af-4999-b956-0584431e4194",
   "metadata": {},
   "source": [
    " Model for Blood Fat Predicting\n",
    " -"
   ]
  },
  {
   "cell_type": "code",
   "execution_count": 4,
   "id": "aff53106-3000-43cc-aeb4-2ba036c8f0c1",
   "metadata": {},
   "outputs": [
    {
     "name": "stdout",
     "output_type": "stream",
     "text": [
      "0 153.33261585356055, [1.71898601], [0.83122854], [81.16003009]\n",
      "100 41.57166931756585, [0.55868623], [4.89097161], [81.16457672]\n",
      "200 41.38343690283843, [0.39155154], [5.18302228], [81.16191629]\n",
      "300 41.38278636414742, [0.38179611], [5.20011954], [81.15971366]\n",
      "400 41.38277944250941, [0.38124998], [5.20112742], [81.1575393]\n",
      "500 41.382774720105154, [0.38124138], [5.20119617], [81.155368]\n",
      "600 41.38277001161675, [0.38126414], [5.20121009], [81.15319827]\n",
      "700 41.38276530959023, [0.38128871], [5.20122081], [81.15103003]\n",
      "800 41.382760613991444, [0.38131337], [5.20123133], [81.14886328]\n",
      "900 41.38275592481152, [0.38133803], [5.20124183], [81.146698]\n",
      "1000 41.382751242041685, [0.38136266], [5.20125233], [81.14453421]\n",
      "1100 41.38274656567318, [0.38138728], [5.20126282], [81.14237189]\n",
      "1200 41.38274189569727, [0.38141188], [5.2012733], [81.14021106]\n",
      "1300 41.38273723210518, [0.38143646], [5.20128378], [81.1380517]\n",
      "1400 41.382732574888216, [0.38146103], [5.20129424], [81.13589382]\n",
      "1500 41.382727924037674, [0.38148558], [5.2013047], [81.13373741]\n",
      "1600 41.38272327954482, [0.38151012], [5.20131516], [81.13158248]\n",
      "1700 41.382718641400984, [0.38153463], [5.2013256], [81.12942902]\n",
      "1800 41.38271400959749, [0.38155913], [5.20133604], [81.12727703]\n",
      "1900 41.382709384125675, [0.38158362], [5.20134647], [81.12512652]\n",
      "2000 41.38270476497688, [0.38160808], [5.2013569], [81.12297747]\n"
     ]
    }
   ],
   "source": [
    "import numpy as np\n",
    "\n",
    "data = np.loadtxt(\"Blood_fat.csv\", delimiter=\",\")\n",
    "\n",
    "x1 = [x_row1[0] for x_row1 in data]\n",
    "x2 = [x_row2[1] for x_row2 in data]\n",
    "y_data = [y_row[2] for y_row in data]\n",
    "\n",
    "w1 = tf.Variable(tf.random.uniform([1], 0, 2, dtype=tf.float64 ,seed=0))\n",
    "w2 = tf.Variable(tf.random.uniform([1], 0, 6, dtype=tf.float64, seed=0))\n",
    "b = tf.Variable(tf.random.uniform([1], 0, 100, dtype=tf.float64, seed=0))\n",
    "\n",
    "def hypothesis(w1, w2, b):\n",
    "    return w1*x1 + w2*x2 + b\n",
    "\n",
    "def cost(w1, w2, b):\n",
    "    return tf.sqrt(tf.reduce_mean(tf.square(hypothesis(w1, w2, b) - y_data)))\n",
    "\n",
    "opt = tf.keras.optimizers.SGD(learning_rate=0.01)\n",
    "\n",
    "\n",
    "for i in range(2001):\n",
    "    with tf.GradientTape() as tape:\n",
    "        loss = cost(w1, w2, b)\n",
    "    gradients = tape.gradient(loss, [w1, w2, b])\n",
    "    opt.apply_gradients(zip(gradients, [w1, w2, b]))\n",
    "    if i % 100 == 0:\n",
    "        print(i, f'{loss.numpy()}, {w1.numpy()}, {w2.numpy()}, {b.numpy()}')"
   ]
  }
 ],
 "metadata": {
  "kernelspec": {
   "display_name": "Python [conda env:base] *",
   "language": "python",
   "name": "conda-base-py"
  },
  "language_info": {
   "codemirror_mode": {
    "name": "ipython",
    "version": 3
   },
   "file_extension": ".py",
   "mimetype": "text/x-python",
   "name": "python",
   "nbconvert_exporter": "python",
   "pygments_lexer": "ipython3",
   "version": "3.12.7"
  }
 },
 "nbformat": 4,
 "nbformat_minor": 5
}
