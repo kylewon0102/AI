{
 "cells": [
  {
   "cell_type": "markdown",
   "id": "a7d66f2d-06fb-47ba-bc2e-ccffc581d12a",
   "metadata": {},
   "source": [
    "Multiple Linear Regression in TensorFlow Version 2\n",
    "-"
   ]
  },
  {
   "cell_type": "code",
   "execution_count": 4,
   "id": "2d7ab139-3012-430f-86b8-66ef3c9b6239",
   "metadata": {},
   "outputs": [
    {
     "name": "stdout",
     "output_type": "stream",
     "text": [
      "Multiple Linear Regression Average Acc : 88.82962\n",
      "Multiple Linear Regression Average Loss: 1.6703777\n",
      "Multiple Linear Regression Average Acc  : 90.49999\n",
      "Multiple Linear Regression Average Loss : 2.4000015\n"
     ]
    }
   ],
   "source": [
    "#Basic Idea in Code\n",
    "import numpy as np\n",
    "data = [[2, 0, 81], [4, 4, 93], [6, 2, 91], [8, 3, 97]]\n",
    "x1 = np.array([x_row1[0] for x_row1 in data], dtype='f')\n",
    "x2 = np.array([x_row2[1] for x_row2 in data], dtype='f')\n",
    "y_data = np.array([y_row[2] for y_row in data], dtype='f')\n",
    "\n",
    "m_a1 = 1.2301\n",
    "m_a2 = 2.1633\n",
    "m_b = 77.8117\n",
    "m_y2 = m_a1*x1 + m_a2*x2 + m_b\n",
    "print('Multiple Linear Regression Average Acc :', m_y2.mean())\n",
    "m_diff_y = abs(y_data - m_y2)\n",
    "print('Multiple Linear Regression Average Loss:', m_diff_y.mean())\n",
    "\n",
    "s_a1 = 2.3\n",
    "s_b = 79\n",
    "s_y1 = s_a1*x1+s_b\n",
    "print('Multiple Linear Regression Average Acc  :', s_y1.mean())\n",
    "s_diff_y = abs(y_data - s_y1)\n",
    "print('Multiple Linear Regression Average Loss :', s_diff_y.mean())"
   ]
  },
  {
   "cell_type": "code",
   "execution_count": 11,
   "id": "14fab24d-9bbd-4194-915b-ded27703585f",
   "metadata": {},
   "outputs": [],
   "source": [
    "#using the Score Prediction\n",
    "#added second x for tutor time per week"
   ]
  },
  {
   "cell_type": "code",
   "execution_count": 9,
   "id": "f4c5c365-78cf-42ad-9e65-88682861622e",
   "metadata": {},
   "outputs": [
    {
     "name": "stdout",
     "output_type": "stream",
     "text": [
      "0 21.416865139696796, [4.96852536], [0.50657417], [81.05836373]\n",
      "100 1.8365511787115216, [1.0864067], [2.11383881], [78.85141816]\n",
      "200 1.8369294629394104, [1.16784211], [2.14190843], [78.24812732]\n",
      "300 1.836992642003952, [1.20363454], [2.154153], [77.99497574]\n",
      "400 1.8370036867476807, [1.21892749], [2.15941323], [77.88867155]\n",
      "500 1.8370056327598945, [1.22539724], [2.16164355], [77.84402041]\n",
      "600 1.8370059761073423, [1.22812317], [2.16258413], [77.82526359]\n",
      "700 1.8370060367010526, [1.22926976], [2.16297991], [77.81738399]\n",
      "800 1.8370060473950434, [1.22975169], [2.16314629], [77.81407377]\n",
      "900 1.8370060492824003, [1.2299542], [2.16321621], [77.81268313]\n",
      "1000 1.837006049615482, [1.23003928], [2.16324558], [77.81209892]\n",
      "1100 1.8370060496742875, [1.23007503], [2.16325792], [77.81185349]\n",
      "1200 1.8370060496846565, [1.23009004], [2.16326311], [77.81175038]\n",
      "1300 1.837006049686505, [1.23009635], [2.16326529], [77.81170707]\n",
      "1400 1.8370060496868204, [1.230099], [2.1632662], [77.81168887]\n",
      "1500 1.8370060496868936, [1.23010011], [2.16326659], [77.81168123]\n",
      "1600 1.8370060496868683, [1.23010058], [2.16326675], [77.81167802]\n",
      "1700 1.8370060496868903, [1.23010078], [2.16326682], [77.81167667]\n",
      "1800 1.8370060496868845, [1.23010086], [2.16326685], [77.8116761]\n",
      "1900 1.8370060496868639, [1.2301009], [2.16326686], [77.81167586]\n",
      "2000 1.8370060496868994, [1.23010091], [2.16326686], [77.81167576]\n"
     ]
    }
   ],
   "source": [
    "import tensorflow as tf\n",
    "\n",
    "data = [[2, 0, 81], [4, 4, 93], [6, 2, 91], [8, 3, 97]]\n",
    "x1 = [x_row1[0] for x_row1 in data]\n",
    "x2 = [x_row2[1] for x_row2 in data]\n",
    "y = [y_row[2] for y_row in data]\n",
    "\n",
    "w1 = tf.Variable(tf.random.uniform([1], 0, 10, dtype=tf.float64, seed=0))\n",
    "w2 = tf.Variable(tf.random.uniform([1], 0, 10, dtype=tf.float64, seed=0))\n",
    "b = tf.Variable(tf.random.uniform([1], 0, 100, dtype=tf.float64, seed=0))\n",
    "\n",
    "def hypothesis(w1, w2, b):\n",
    "    return x1 * w1 + x2 * w2 + b\n",
    "\n",
    "def cost(w1, w2, b):\n",
    "    return tf.sqrt(tf.reduce_mean(tf.square(hypothesis(w1, w2, b) - y)))\n",
    "\n",
    "opt = tf.keras.optimizers.SGD(learning_rate=0.1)\n",
    "for i in range(2001):\n",
    "    with tf.GradientTape() as tape:\n",
    "        loss = cost(w1, w2, b)\n",
    "    gradients = tape.gradient(loss, [w1, w2, b])\n",
    "    opt.apply_gradients(zip(gradients, [w1, w2, b]))\n",
    "    if i % 100 == 0:\n",
    "        print(i, f'{loss.numpy()}, {w1.numpy()}, {w2.numpy()}, {b.numpy()}')"
   ]
  }
 ],
 "metadata": {
  "kernelspec": {
   "display_name": "Python [conda env:base] *",
   "language": "python",
   "name": "conda-base-py"
  },
  "language_info": {
   "codemirror_mode": {
    "name": "ipython",
    "version": 3
   },
   "file_extension": ".py",
   "mimetype": "text/x-python",
   "name": "python",
   "nbconvert_exporter": "python",
   "pygments_lexer": "ipython3",
   "version": "3.12.7"
  }
 },
 "nbformat": 4,
 "nbformat_minor": 5
}
