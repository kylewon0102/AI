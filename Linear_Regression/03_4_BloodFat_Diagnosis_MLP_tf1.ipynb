{
 "cells": [
  {
   "cell_type": "code",
   "execution_count": 1,
   "id": "8715c3d2-6aa8-4d68-a2e4-c1c3b1044708",
   "metadata": {},
   "outputs": [
    {
     "name": "stderr",
     "output_type": "stream",
     "text": [
      "2025-04-19 22:59:06.422001: I tensorflow/core/platform/cpu_feature_guard.cc:210] This TensorFlow binary is optimized to use available CPU instructions in performance-critical operations.\n",
      "To enable the following instructions: AVX2 FMA, in other operations, rebuild TensorFlow with the appropriate compiler flags.\n"
     ]
    },
    {
     "name": "stdout",
     "output_type": "stream",
     "text": [
      "WARNING:tensorflow:From /opt/anaconda3/lib/python3.12/site-packages/tensorflow/python/compat/v2_compat.py:98: disable_resource_variables (from tensorflow.python.ops.resource_variables_toggle) is deprecated and will be removed in a future version.\n",
      "Instructions for updating:\n",
      "non-resource variables are not supported in the long term\n",
      "Epoch: 0, rmse: 45.3775521604799, a1: [1.01045286], a2: [4.51095265], b: [80.68164883]\n",
      "Epoch: 1000, rmse: 41.3817824269904, a1: [0.38688432], a2: [5.20360497], b: [80.65954139]\n"
     ]
    },
    {
     "name": "stderr",
     "output_type": "stream",
     "text": [
      "2025-04-19 22:59:13.442143: I tensorflow/compiler/mlir/mlir_graph_optimization_pass.cc:388] MLIR V1 optimization pass is not enabled\n"
     ]
    },
    {
     "name": "stdout",
     "output_type": "stream",
     "text": [
      "Epoch: 2000, rmse: 41.38174911289677, a1: [0.38709211], a2: [5.20369351], b: [80.64129065]\n",
      "Epoch: 3000, rmse: 41.38171625144698, a1: [0.38729848], a2: [5.20378144], b: [80.62316431]\n",
      "Epoch: 4000, rmse: 41.38168383649196, a1: [0.38750344], a2: [5.20386876], b: [80.60516154]\n",
      "Epoch: 5000, rmse: 41.3816518619661, a1: [0.387707], a2: [5.2039555], b: [80.58728149]\n",
      "Epoch: 6000, rmse: 41.3816203218862, a1: [0.38790918], a2: [5.20404164], b: [80.56952333]\n",
      "Epoch: 7000, rmse: 41.381589210350334, a1: [0.38810998], a2: [5.2041272], b: [80.55188622]\n",
      "Epoch: 8000, rmse: 41.38155852153666, a1: [0.38830941], a2: [5.20421217], b: [80.53436934]\n",
      "Epoch: 9000, rmse: 41.38152824970246, a1: [0.38850748], a2: [5.20429656], b: [80.51697188]\n",
      "Epoch: 10000, rmse: 41.38149838918299, a1: [0.3887042], a2: [5.20438038], b: [80.49969301]\n",
      "Epoch: 11000, rmse: 41.381468934390426, a1: [0.38889958], a2: [5.20446363], b: [80.48253193]\n",
      "Epoch: 12000, rmse: 41.381439879812845, a1: [0.38909363], a2: [5.20454631], b: [80.46548783]\n",
      "Epoch: 13000, rmse: 41.381411220013185, a1: [0.38928635], a2: [5.20462842], b: [80.44855993]\n",
      "Epoch: 14000, rmse: 41.38138294962822, a1: [0.38947776], a2: [5.20470998], b: [80.43174742]\n",
      "Epoch: 15000, rmse: 41.38135506336755, a1: [0.38966787], a2: [5.20479098], b: [80.41504952]\n",
      "Epoch: 16000, rmse: 41.38132755601265, a1: [0.38985668], a2: [5.20487142], b: [80.39846546]\n",
      "Epoch: 17000, rmse: 41.38130042241587, a1: [0.3900442], a2: [5.20495132], b: [80.38199444]\n",
      "Epoch: 18000, rmse: 41.38127365749945, a1: [0.39023045], a2: [5.20503068], b: [80.36563571]\n",
      "Epoch: 19000, rmse: 41.381247256254625, a1: [0.39041542], a2: [5.20510949], b: [80.3493885]\n",
      "Epoch: 20000, rmse: 41.38122121374064, a1: [0.39059914], a2: [5.20518777], b: [80.33325205]\n",
      "Tensor(\"add_3:0\", shape=(1,), dtype=float64)\n",
      "새로운 데이터 입력시 예측 결과:\n",
      "몸무게 = 65, 나이 = 45, 예측 혈중 지방 농도 = [339.95564551]\n"
     ]
    },
    {
     "data": {
      "text/plain": [
       "tensorflow.python.client.session.Session"
      ]
     },
     "execution_count": 1,
     "metadata": {},
     "output_type": "execute_result"
    }
   ],
   "source": [
    "#연습\n",
    "import tensorflow.compat.v1 as tf\n",
    "tf.disable_v2_behavior()\n",
    "import numpy as np\n",
    "\n",
    "data = np.loadtxt(\"Blood_fat.csv\", delimiter=\",\")\n",
    "\n",
    "x1 = [x_row1[0] for x_row1 in data]\n",
    "x2 = [x_row2[1] for x_row2 in data]\n",
    "y_data = [y_row[2] for y_row in data]\n",
    "\n",
    "a1 = tf.Variable(tf.random.uniform([1], 0, 2, dtype=tf.float64 ,seed=0))\n",
    "a2 = tf.Variable(tf.random.uniform([1], 0, 6, dtype=tf.float64, seed=0))\n",
    "b = tf.Variable(tf.random.uniform([1], 0, 100, dtype=tf.float64, seed=0))\n",
    "\n",
    "y = a1 * x1 + a2 * x2 + b\n",
    "\n",
    "rmse = tf.sqrt(tf.reduce_mean(tf.square(y - y_data)))\n",
    "learning_rate = 0.01\n",
    "gradient_descent = tf.train.GradientDescentOptimizer(learning_rate).minimize(rmse)\n",
    "\n",
    "with tf.Session() as sess:\n",
    "    sess.run(tf.global_variables_initializer())\n",
    "    for step in range(20001):\n",
    "        sess.run(gradient_descent)\n",
    "        if step % 1000 == 0:\n",
    "            print(f\"Epoch: {step}, rmse: {sess.run(rmse)}, a1: {sess.run(a1)}, a2: {sess.run(a2)}, b: {sess.run(b)}\")\n",
    "    #\n",
    "    new_x1 = 65\n",
    "    new_x2 = 45\n",
    "    predicted_y = a1 * new_x1 + a2  * new_x2+b\n",
    "    print(predicted_y)\n",
    "    print(\"새로운 데이터 입력시 예측 결과:\")\n",
    "    print(f\"몸무게 = {new_x1}, 나이 = {new_x2}, 예측 혈중 지방 농도 = {sess.run(predicted_y)}\")\n",
    "\n",
    "tf.Session"
   ]
  }
 ],
 "metadata": {
  "kernelspec": {
   "display_name": "Python [conda env:base] *",
   "language": "python",
   "name": "conda-base-py"
  },
  "language_info": {
   "codemirror_mode": {
    "name": "ipython",
    "version": 3
   },
   "file_extension": ".py",
   "mimetype": "text/x-python",
   "name": "python",
   "nbconvert_exporter": "python",
   "pygments_lexer": "ipython3",
   "version": "3.12.7"
  }
 },
 "nbformat": 4,
 "nbformat_minor": 5
}
